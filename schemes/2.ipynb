{
 "cells": [
  {
   "cell_type": "code",
   "execution_count": 18,
   "metadata": {
    "collapsed": true
   },
   "outputs": [],
   "source": [
    "import numpy as np\n",
    "import matplotlib.pyplot as plt\n",
    "%matplotlib inline"
   ]
  },
  {
   "cell_type": "code",
   "execution_count": 29,
   "metadata": {
    "collapsed": true
   },
   "outputs": [],
   "source": [
    "# y0 = k1*y1 + m1\n",
    "# yN = k2*yN-1 + m2\n",
    "\n",
    "# A * x_n-1 - C_n * x_n + B * x_n+1 = -F_n\n",
    "\n",
    "def TMA(A, B, C, F, k1=0, k2=0, m1=0, m2=0):\n",
    "    \n",
    "    N = C.shape[0]\n",
    "    \n",
    "    x = np.zeros(N+1)\n",
    "    \n",
    "    alpha = np.zeros(N+1)\n",
    "    beta = np.zeros(N+1)\n",
    "    \n",
    "    alpha[0] = k1\n",
    "    beta[0] = m1\n",
    "\n",
    "    for n in range(1,N):\n",
    "        alpha[n] = B[n] / (C[n] - A[n]*alpha[n-1])\n",
    "        beta[n] = (F[n] + A[n]*beta[n-1]) / (C[n] - A[n]*alpha[n-1])\n",
    "            \n",
    "    x[N] = (m2 + k2*beta[N-1]) / (1 - k2*alpha[N-1])\n",
    "    \n",
    "    for n in range(N-1, -1, -1):\n",
    "        x[n] = alpha[n]*x[n+1] + beta[n]\n",
    "        \n",
    "    return x"
   ]
  },
  {
   "cell_type": "code",
   "execution_count": 225,
   "metadata": {
    "collapsed": true
   },
   "outputs": [],
   "source": [
    "N = {}\n",
    "N['x'] = 40\n",
    "N['y'] = 60\n",
    "N['t'] = 100"
   ]
  },
  {
   "cell_type": "code",
   "execution_count": 226,
   "metadata": {
    "collapsed": true
   },
   "outputs": [],
   "source": [
    "h = {}\n",
    "h['x'] = (lim['x'][1] - lim['x'][0]) / (N['x'] + 1)\n",
    "h['y'] = (lim['y'][1] - lim['y'][0]) / (N['y']) # граничные условтя второго рода\n",
    "h['t'] = (lim['x'][1] - lim['x'][0]) / (N['x'] + 1)"
   ]
  },
  {
   "cell_type": "code",
   "execution_count": 227,
   "metadata": {
    "collapsed": true
   },
   "outputs": [],
   "source": [
    "lim = {}\n",
    "lim['x'] = (0, 1)\n",
    "lim['y'] = (0, 2)\n",
    "lim['t'] = (0, 1)"
   ]
  },
  {
   "cell_type": "code",
   "execution_count": 228,
   "metadata": {
    "collapsed": true
   },
   "outputs": [],
   "source": [
    "h['x'] = (lim['x'][1] - lim['x'][0]) / (N['x'] + 1)\n",
    "h['y'] = (lim['y'][1] - lim['y'][0]) / (N['y']) # граничные условтя второго рода\n",
    "h['t'] = (lim['x'][1] - lim['x'][0]) / (N['x'] + 1)"
   ]
  },
  {
   "cell_type": "code",
   "execution_count": 229,
   "metadata": {
    "collapsed": true
   },
   "outputs": [],
   "source": [
    "def x(n):\n",
    "    return lim['x'][0] + h['x']*n\n",
    "\n",
    "def y(n):\n",
    "    return lim['y'][0] + h['y']*n - h['y'] / 2\n",
    "\n",
    "def t(n):\n",
    "    return lim['t'][0] + h['t']*n"
   ]
  },
  {
   "cell_type": "code",
   "execution_count": null,
   "metadata": {
    "collapsed": true
   },
   "outputs": [],
   "source": []
  },
  {
   "cell_type": "code",
   "execution_count": 327,
   "metadata": {
    "collapsed": true
   },
   "outputs": [],
   "source": [
    "def f(i, j, k):\n",
    "    return (1 / (2 - x(i))) * \\\n",
    "    (1 - x(i) + 2*t(k)*np.sin(np.pi*x(i) * np.cosh(np.pi*y(j))) / \\\n",
    "     np.pi*np.sinh(2*np.pi) ) \n",
    "    \n",
    "def L2(u, i, j):\n",
    "    return (u[i,j+1] - 2*u[i,j] + u[i,j-1]) / h['y']**2\n",
    "\n",
    "def L1(u, i, j):\n",
    "    return (u[i-1,j] - 2*u[i,j] + u[i+1,j]) / h['x']**2  + (2*x(i) - 4) / (2 - x(i))**2 * (u[i+1,j] - u[i-1,j])/ h['x']\n",
    "\n",
    "def u0(i, j):\n",
    "    return np.sin(2*np.pi*x(i)) / (2 - x(i))"
   ]
  },
  {
   "cell_type": "code",
   "execution_count": null,
   "metadata": {
    "collapsed": true
   },
   "outputs": [],
   "source": []
  },
  {
   "cell_type": "code",
   "execution_count": 328,
   "metadata": {
    "collapsed": true
   },
   "outputs": [],
   "source": [
    "w = np.zeros((N['x']+1, N['y']+1))\n",
    "u = np.zeros((N['t']+1, N['x']+1, N['y']+1))"
   ]
  },
  {
   "cell_type": "code",
   "execution_count": 329,
   "metadata": {
    "collapsed": true
   },
   "outputs": [],
   "source": [
    "## Начальные условия\n",
    "for i in range(N['x']+1):\n",
    "    for j in range(N['y']+1):\n",
    "        u[0,i,j] = u0(i,j)\n",
    "        \n",
    "## Граничные условия по x\n",
    "for k in range(N['t']+1):\n",
    "    for j in range(N['y']+1):\n",
    "        u[k,0,j] = t(k)\n",
    "        u[k,N['x'],j] = 0\n"
   ]
  },
  {
   "cell_type": "code",
   "execution_count": null,
   "metadata": {
    "collapsed": true
   },
   "outputs": [],
   "source": []
  },
  {
   "cell_type": "code",
   "execution_count": 330,
   "metadata": {},
   "outputs": [],
   "source": [
    "##  1 этап\n",
    "A_x = np.zeros(N['x'])\n",
    "B_x = np.zeros(N['x'])\n",
    "C_x = np.zeros(N['x'])\n",
    "F_x = np.zeros(N['x'])\n",
    "\n",
    "A_y = np.zeros(N['y'])\n",
    "B_y = np.zeros(N['y'])\n",
    "C_y = np.zeros(N['y'])\n",
    "F_y = np.zeros(N['y'])\n",
    "\n",
    "\n",
    "for k in range(3):\n",
    "    \n",
    "    # первый переход\n",
    "    for j in range(1,N['y']):\n",
    "        for i in range(1, N['x']):\n",
    "\n",
    "            A_x[i] = h['t'] / (2 * h['x']**2) - (2*x(i) - 4) / ((x(i)-2)**2) * (h['t'] / (4*h['x']))\n",
    "            C_x[i] = h['t'] / h['x']**2 - 1\n",
    "            B_x[i] = h['t'] / (2 * h['x']**2) + (2*x(i) - 4) / ((x(i)-2)**2) * (h['t'] / (4*h['x']))\n",
    "            \n",
    "            F_x[i] = L1(u[k], i, j) + L2(u[k], i, j) - f(i, j, k+0.5)\n",
    "\n",
    "            \n",
    "        w[:,j] = TMA(A_x, B_x, C_x, F_x, m1=1, m2=0)\n",
    "            \n",
    "        \n",
    "        w[:,0] = w[:,1]\n",
    "        \n",
    "        for i in range(1,N['x']):    \n",
    "            w[i,N['y']] = w[i,N['y']-1] + h['y']*2*t(k+0.5)*np.sin(np.pi*x(i))\n",
    "            \n",
    "    # второй переход\n",
    "    for i in range(1,N['x']):\n",
    "        \n",
    "        for j in range(1,N['y']):\n",
    "            \n",
    "            A_y[j] = 1 / h['y']**2\n",
    "            C_y[j] = (1 / h['y']**2 + 1 / h['t'] )\n",
    "            B_y[j] = 1 / h['y']**2\n",
    "            \n",
    "            F_y[j] = -L2(u[k], i, j) / 2 - w[i,j] - u[k,i,j]  / h['t']\n",
    "            #F_y[j] =  w[i,j] + u[k,i,j]  / h['t']\n",
    "\n",
    "            \n",
    "        m2 = h['y'] * t(k+1)**2 * np.sin(np.pi * x(i))\n",
    "        k2 = 1\n",
    "        k1 = 1\n",
    "        \n",
    "        u[k+1, i, :] = TMA(A_y, B_y, C_y, F_y, k1=k1, k2=k2, m2=m2)\n",
    "        #u[k+1, i, :] = TMA(A_y, B_y, C_y, F_y)\n",
    "        "
   ]
  },
  {
   "cell_type": "code",
   "execution_count": 331,
   "metadata": {},
   "outputs": [
    {
     "data": {
      "text/plain": [
       "array([[ 0.02439024,  0.02439024,  0.02439024, ...,  0.02439024,\n",
       "         0.02439024,  0.02439024],\n",
       "       [ 0.00794431,  0.00794431,  0.01115423, ...,  0.01156163,\n",
       "         0.0177086 ,  0.01771012],\n",
       "       [ 0.0154603 ,  0.0154603 ,  0.02135185, ...,  0.02206166,\n",
       "         0.03398827,  0.03399129],\n",
       "       ..., \n",
       "       [-0.04054689, -0.04054689, -0.04036779, ..., -0.04029906,\n",
       "        -0.03085486, -0.03085034],\n",
       "       [-0.01784997, -0.01784997, -0.01758933, ..., -0.01749391,\n",
       "        -0.01268058, -0.01267755],\n",
       "       [ 0.        ,  0.        ,  0.        , ...,  0.        ,\n",
       "         0.        ,  0.        ]])"
      ]
     },
     "execution_count": 331,
     "metadata": {},
     "output_type": "execute_result"
    }
   ],
   "source": [
    "u[1]"
   ]
  },
  {
   "cell_type": "code",
   "execution_count": 332,
   "metadata": {
    "scrolled": true
   },
   "outputs": [
    {
     "data": {
      "text/plain": [
       "<matplotlib.contour.QuadContourSet at 0x11edd3978>"
      ]
     },
     "execution_count": 332,
     "metadata": {},
     "output_type": "execute_result"
    },
    {
     "data": {
      "image/png": "[encoded data removed]",
      "text/plain": [
       "<matplotlib.figure.Figure at 0x11ecffcc0>"
      ]
     },
     "metadata": {},
     "output_type": "display_data"
    }
   ],
   "source": [
    "plt.contourf(u[3])"
   ]
  },
  {
   "cell_type": "code",
   "execution_count": null,
   "metadata": {
    "collapsed": true
   },
   "outputs": [],
   "source": []
  },
  {
   "cell_type": "code",
   "execution_count": null,
   "metadata": {
    "collapsed": true
   },
   "outputs": [],
   "source": []
  }
 ],
 "metadata": {
  "kernelspec": {
   "display_name": "Python [conda env:anaconda3]",
   "language": "python",
   "name": "conda-env-anaconda3-py"
  },
  "language_info": {
   "codemirror_mode": {
    "name": "ipython",
    "version": 3
   },
   "file_extension": ".py",
   "mimetype": "text/x-python",
   "name": "python",
   "nbconvert_exporter": "python",
   "pygments_lexer": "ipython3",
   "version": "3.6.3"
  }
 },
 "nbformat": 4,
 "nbformat_minor": 2
}
