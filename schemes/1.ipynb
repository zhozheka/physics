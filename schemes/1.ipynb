{
 "cells": [
  {
   "cell_type": "markdown",
   "metadata": {},
   "source": [
    "# Схема переменных направлений"
   ]
  },
  {
   "cell_type": "code",
   "execution_count": 520,
   "metadata": {
    "collapsed": true
   },
   "outputs": [],
   "source": [
    "import numpy as np\n",
    "import matplotlib.pyplot as plt\n",
    "%matplotlib inline"
   ]
  },
  {
   "cell_type": "markdown",
   "metadata": {},
   "source": [
    "### Область  определения:"
   ]
  },
  {
   "cell_type": "code",
   "execution_count": 519,
   "metadata": {
    "collapsed": true
   },
   "outputs": [],
   "source": [
    "lim = {}\n",
    "lim['x'] = (0, 1)\n",
    "lim['y'] = (0, 2)\n",
    "lim['t'] = (0, 1)"
   ]
  },
  {
   "cell_type": "markdown",
   "metadata": {},
   "source": [
    "### Число узлов сетки"
   ]
  },
  {
   "cell_type": "code",
   "execution_count": 220,
   "metadata": {
    "collapsed": true
   },
   "outputs": [],
   "source": [
    "N = {}\n",
    "N['x'] = 30\n",
    "N['y'] = 60\n",
    "N['t'] = 100"
   ]
  },
  {
   "cell_type": "code",
   "execution_count": null,
   "metadata": {
    "collapsed": true
   },
   "outputs": [],
   "source": [
    "h['x'] = (lim['x'][1] - lim['x'][0]) / (N['x'] + 1)\n",
    "h['y'] = (lim['y'][1] - lim['y'][0]) / (N['y']) # граничные условтя второго рода\n",
    "h['t'] = (lim['x'][1] - lim['x'][0]) / (N['x'] + 1)"
   ]
  },
  {
   "cell_type": "code",
   "execution_count": 503,
   "metadata": {
    "collapsed": true
   },
   "outputs": [],
   "source": [
    "def x(n):\n",
    "    return lim['x'][0] + h['x']*n\n",
    "\n",
    "def y(n):\n",
    "    return lim['y'][0] + h['y']*n - h['y'] / 2\n",
    "\n",
    "def t(n):\n",
    "    return lim['t'][0] + h['t']*n"
   ]
  },
  {
   "cell_type": "code",
   "execution_count": 504,
   "metadata": {
    "collapsed": true
   },
   "outputs": [],
   "source": []
  },
  {
   "cell_type": "code",
   "execution_count": 539,
   "metadata": {
    "collapsed": true
   },
   "outputs": [],
   "source": [
    "def f(i, j, k):\n",
    "    return (1 / (2 - x(i))) * \\\n",
    "    (1 - x(i) + 2*t(k)*np.sin(np.pi*x(i) * np.cosh(np.pi*y(j))) / \\\n",
    "     np.pi*np.sinh(2*np.pi) ) \n",
    "    \n",
    "def L2(u, i, j):\n",
    "    return (u[i,j+1] - 2*u[i][j] + u[i][j-1]) / h['y']**2\n",
    "\n",
    "def L1(u, i, j):\n",
    "    return (u[i-1,j] - 2*u[i,j] + u[i+1,j]) / h['x']**2  + (2*x(i) - 4) / (2 - x(i))**2 * (u[i+1,j] - u[i-1,j])/ h['x']\n",
    "\n",
    "def u0(i, j):\n",
    "    return np.sin(2*np.pi*x(i)) / (2 - x(i))"
   ]
  },
  {
   "cell_type": "code",
   "execution_count": 540,
   "metadata": {
    "collapsed": true
   },
   "outputs": [],
   "source": [
    "# x - i\n",
    "# y - j\n",
    "# t - k"
   ]
  },
  {
   "cell_type": "code",
   "execution_count": 541,
   "metadata": {
    "collapsed": true
   },
   "outputs": [],
   "source": [
    "w = np.zeros((N['x']+1, N['y']+1))\n",
    "u = np.zeros((N['t']+1, N['x']+1, N['y']+1))"
   ]
  },
  {
   "cell_type": "code",
   "execution_count": 542,
   "metadata": {
    "collapsed": true
   },
   "outputs": [],
   "source": [
    "## Начальные условия\n",
    "for i in range(N['x']+1):\n",
    "    for j in range(N['y']+1):\n",
    "        u[0,i,j] = u0(i,j)\n",
    "        \n",
    "## Граничные условия по x\n",
    "for k in range(N['t']+1):\n",
    "    for j in range(N['y']+1):\n",
    "        u[k,0,j] = t(k)\n",
    "        u[k,N['x'],j] = 0\n",
    "        "
   ]
  },
  {
   "cell_type": "code",
   "execution_count": 543,
   "metadata": {
    "collapsed": true
   },
   "outputs": [],
   "source": [
    "A_y = np.zeros(N['y'])\n",
    "B_y = np.zeros(N['y'])\n",
    "C_y = np.zeros(N['y'])\n",
    "F_y = np.zeros(N['y'])\n",
    "\n",
    "\n",
    "A_x = np.zeros(N['x'])\n",
    "B_x = np.zeros(N['x'])\n",
    "C_x = np.zeros(N['x'])\n",
    "F_x = np.zeros(N['x'])\n",
    "\n",
    "for k in range(1, N['t']):\n",
    "    # переход на слой k+1\n",
    "\n",
    "    for j in range(0, N['y'] +1):\n",
    "        w[0,j] = t(k+0.5)\n",
    "        w[1,j] = 0\n",
    "\n",
    "    # переход на квазислой\n",
    "    \n",
    "    for i in range(1, N['x']):\n",
    "        # готовим прогоночные коэффициенты\n",
    "        for j in range(1,N['y']):\n",
    "            \n",
    "            A_y[j] = 1 / h['y']**2\n",
    "            C_y[j] = 2 / h['y']**2 + 2 / h['t']\n",
    "            B_y[j] = 1 / h['y']**2\n",
    "\n",
    "            F_y[j] = L1(u[k], i, j) + f(i, j, k+0.5) + 2*u[k, i, j] / h['t']\n",
    "\n",
    "        # прогонка\n",
    "        # граничные условия по y\n",
    "        k1 = 1\n",
    "        k2 = 1\n",
    "        m2 = t(k)**2 * np.sin(np.pi * x(i)) / (2 - x(i))\n",
    "\n",
    "        w[i] = TMA(A_y, B_y, C_y, F_y, k2=k2, m2=m2)    \n",
    "\n",
    "    # переход на новый слой\n",
    "\n",
    "    for j in range(1,N['y']):\n",
    "    \n",
    "        # готовим прогоночные коэффициенты\n",
    "        for i in range(1, N['x']):\n",
    "\n",
    "            A_x[i] = 1 / h['x']**2 - (x(i) - 2) / (2 - x(i))**2 / h['x']\n",
    "            C_x[i] = 2 / h['x']**2 + 2 / h['t']\n",
    "            B_x[i] = 1 / h['x']**2 + (x(i) - 2) / (2 - x(i))**2 / h['x']\n",
    "\n",
    "            F_x[i] = L2(w, i, j) + 2*w[i,j] / h['t'] + f(i, j, k+0.5)\n",
    "        \n",
    "        #метод прогонки\n",
    "        \n",
    "        m1 = t(k+1)\n",
    "        u[k+1, :, j] = TMA(A_x, B_x, C_x, F_x, m1=m1)\n",
    "\n",
    "        # граничные условия\n",
    "        u[k+1,:,0] = u[k+1,:,0]\n",
    "        for i in range(1,N['x']):\n",
    "            u[k+1,i,N['y']] = u[k+1,i,N['y']-1] + h['y']*h['y']*t(k+1)**2*np.sin(np.pi * x(i)) / (2 - x(i))"
   ]
  },
  {
   "cell_type": "code",
   "execution_count": 548,
   "metadata": {},
   "outputs": [
    {
     "data": {
      "image/png": "[encoded data removed]",
      "text/plain": [
       "<matplotlib.figure.Figure at 0x11f65a518>"
      ]
     },
     "metadata": {},
     "output_type": "display_data"
    }
   ],
   "source": [
    "plt.contourf(u[-1])\n",
    "plt.show()"
   ]
  },
  {
   "cell_type": "code",
   "execution_count": 545,
   "metadata": {
    "collapsed": true
   },
   "outputs": [],
   "source": [
    "# y0 = k1*y1 + m1\n",
    "# yN = k2*yN-1 + m2\n",
    "\n",
    "# A * x_n-1 - C_n * x_n + B * x_n+1 = -F_n\n",
    "\n",
    "def TMA(A, B, C, F, k1=0, k2=0, m1=0, m2=0):\n",
    "    \n",
    "    N = C.shape[0]\n",
    "    \n",
    "    x = np.zeros(N+1)\n",
    "    \n",
    "    alpha = np.zeros(N+1)\n",
    "    beta = np.zeros(N+1)\n",
    "    \n",
    "    alpha[0] = k1\n",
    "    beta[0] = m1\n",
    "\n",
    "    for n in range(1,N):\n",
    "        alpha[n] = B[n] / (C[n] - A[n]*alpha[n-1])\n",
    "        beta[n] = (F[n] + A[n]*beta[n-1]) / (C[n] - A[n]*alpha[n-1])\n",
    "            \n",
    "    x[N] = (m2 + k2*beta[N-1]) / (1 - k2*alpha[N-1])\n",
    "    \n",
    "    for n in range(N-1, -1, -1):\n",
    "        x[n] = alpha[n]*x[n+1] + beta[n]\n",
    "        \n",
    "    return x"
   ]
  },
  {
   "cell_type": "code",
   "execution_count": 546,
   "metadata": {
    "collapsed": true
   },
   "outputs": [],
   "source": [
    "A = np.zeros(M.shape[0])\n",
    "B = np.zeros(M.shape[0])\n",
    "C = np.zeros(M.shape[0])\n",
    "\n",
    "for i in range(M.shape[0]):\n",
    "    C[i] = M[i,i]\n",
    "    \n",
    "for i in range(1, M.shape[0]):\n",
    "    A[i] = M[i,i-1]\n",
    "\n",
    "for i in range(M.shape[0]-1):\n",
    "    B[i] = M[i,i+1]"
   ]
  },
  {
   "cell_type": "code",
   "execution_count": null,
   "metadata": {
    "collapsed": true
   },
   "outputs": [],
   "source": []
  },
  {
   "cell_type": "code",
   "execution_count": null,
   "metadata": {
    "collapsed": true
   },
   "outputs": [],
   "source": []
  },
  {
   "cell_type": "code",
   "execution_count": null,
   "metadata": {
    "collapsed": true
   },
   "outputs": [],
   "source": []
  },
  {
   "cell_type": "code",
   "execution_count": null,
   "metadata": {
    "collapsed": true
   },
   "outputs": [],
   "source": []
  },
  {
   "cell_type": "code",
   "execution_count": null,
   "metadata": {
    "collapsed": true
   },
   "outputs": [],
   "source": []
  },
  {
   "cell_type": "code",
   "execution_count": null,
   "metadata": {
    "collapsed": true
   },
   "outputs": [],
   "source": []
  },
  {
   "cell_type": "code",
   "execution_count": 446,
   "metadata": {
    "collapsed": true
   },
   "outputs": [],
   "source": [
    "def f(x):\n",
    "    return -x**2 + 6*x -7 + 3* np.sin(3*x)"
   ]
  },
  {
   "cell_type": "code",
   "execution_count": 488,
   "metadata": {
    "collapsed": true
   },
   "outputs": [],
   "source": [
    "Nx = 100\n",
    "h_x = 7 / (Nx - 0.5)\n",
    "\n",
    "x = np.linspace(0,7,Nx+1)\n",
    "y = f(x)\n",
    "\n",
    "A = np.zeros(Nx)\n",
    "C = np.zeros(Nx)\n",
    "B = np.zeros(Nx)\n",
    "F = np.zeros(Nx)\n",
    "for i in range(1,Nx):\n",
    "    A[i] = 1/h_x**2\n",
    "    C[i] = 2/h_x**2\n",
    "    B[i] = 1/h_x**2\n",
    "    F[i] = 2 + 27 * np.sin(3*h_x*i)\n",
    "             \n",
    "m1 = -7\n",
    "k2 = 1\n",
    "m2 = -12.93*h_x\n",
    "\n",
    "Y = TMA(A,B,C,F, m1=m1, k2=k2, m2=m2)"
   ]
  },
  {
   "cell_type": "code",
   "execution_count": 490,
   "metadata": {},
   "outputs": [
    {
     "data": {
      "text/plain": [
       "[<matplotlib.lines.Line2D at 0x11e2ff8d0>]"
      ]
     },
     "execution_count": 490,
     "metadata": {},
     "output_type": "execute_result"
    },
    {
     "data": {
      "image/png": "[encoded data removed]",
      "text/plain": [
       "<matplotlib.figure.Figure at 0x11e407710>"
      ]
     },
     "metadata": {},
     "output_type": "display_data"
    }
   ],
   "source": [
    "plt.plot(y)\n",
    "plt.plot(Y)"
   ]
  },
  {
   "cell_type": "code",
   "execution_count": 501,
   "metadata": {},
   "outputs": [
    {
     "data": {
      "text/plain": [
       "-0.90964824120603005"
      ]
     },
     "execution_count": 501,
     "metadata": {},
     "output_type": "execute_result"
    }
   ],
   "source": [
    "Y[-1] - Y[-2]"
   ]
  }
 ],
 "metadata": {
  "kernelspec": {
   "display_name": "Python [conda env:anaconda3]",
   "language": "python",
   "name": "conda-env-anaconda3-py"
  },
  "language_info": {
   "codemirror_mode": {
    "name": "ipython",
    "version": 3
   },
   "file_extension": ".py",
   "mimetype": "text/x-python",
   "name": "python",
   "nbconvert_exporter": "python",
   "pygments_lexer": "ipython3",
   "version": "3.6.3"
  }
 },
 "nbformat": 4,
 "nbformat_minor": 2
}
