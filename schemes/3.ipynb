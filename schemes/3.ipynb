{
 "cells": [
  {
   "cell_type": "code",
   "execution_count": 1,
   "metadata": {
    "collapsed": true
   },
   "outputs": [],
   "source": [
    "import numpy as np\n",
    "import matplotlib.pyplot as plt\n",
    "%matplotlib inline"
   ]
  },
  {
   "cell_type": "code",
   "execution_count": 2,
   "metadata": {
    "collapsed": true
   },
   "outputs": [],
   "source": [
    "# y0 = k1*y1 + m1\n",
    "# yN = k2*yN-1 + m2\n",
    "\n",
    "# A * x_n-1 - C_n * x_n + B * x_n+1 = -F_n\n",
    "\n",
    "def TMA(A, B, C, F, k1=0, k2=0, m1=0, m2=0):\n",
    "    \n",
    "    N = C.shape[0]\n",
    "    \n",
    "    x = np.zeros(N+1)\n",
    "    \n",
    "    alpha = np.zeros(N+1)\n",
    "    beta = np.zeros(N+1)\n",
    "    \n",
    "    alpha[0] = k1\n",
    "    beta[0] = m1\n",
    "\n",
    "    for n in range(1,N):\n",
    "        alpha[n] = B[n] / (C[n] - A[n]*alpha[n-1])\n",
    "        beta[n] = (F[n] + A[n]*beta[n-1]) / (C[n] - A[n]*alpha[n-1])\n",
    "            \n",
    "    x[N] = (m2 + k2*beta[N-1]) / (1 - k2*alpha[N-1])\n",
    "    \n",
    "    for n in range(N-1, -1, -1):\n",
    "        x[n] = alpha[n]*x[n+1] + beta[n]\n",
    "        \n",
    "    return x"
   ]
  },
  {
   "cell_type": "code",
   "execution_count": 30,
   "metadata": {
    "collapsed": true
   },
   "outputs": [],
   "source": [
    "N = {}\n",
    "N['x'] = 20\n",
    "N['y'] = 20\n",
    "N['z'] = 20\n",
    "\n",
    "N['t'] = 40"
   ]
  },
  {
   "cell_type": "code",
   "execution_count": 31,
   "metadata": {
    "collapsed": true
   },
   "outputs": [],
   "source": [
    "lim = {}\n",
    "lim['x'] = (0, 1)\n",
    "lim['y'] = (0, 1)\n",
    "lim['z'] = (0, 1)\n",
    "lim['t'] = (0, 1)\n"
   ]
  },
  {
   "cell_type": "code",
   "execution_count": 66,
   "metadata": {
    "collapsed": true
   },
   "outputs": [],
   "source": [
    "h = {}\n",
    "h['x'] = (lim['x'][1] - lim['x'][0]) / (N['x'] - 0.5)\n",
    "h['y'] = (lim['y'][1] - lim['y'][0]) / (N['y'] - 1) \n",
    "h['z'] = (lim['z'][1] - lim['z'][0]) / (N['z'])\n",
    "\n",
    "h['t'] = (lim['x'][1] - lim['x'][0]) / (N['x'] + 1)"
   ]
  },
  {
   "cell_type": "code",
   "execution_count": 67,
   "metadata": {
    "collapsed": true
   },
   "outputs": [],
   "source": [
    "def x(n):\n",
    "    return lim['x'][0] + h['x']*n\n",
    "\n",
    "def y(n):\n",
    "    return lim['y'][0] + h['y']*n - h['y'] / 2\n",
    "\n",
    "def z(n):\n",
    "    return lim['z'][0] + h['z']*n\n",
    "\n",
    "def t(n):\n",
    "    return lim['t'][0] + h['t']*n"
   ]
  },
  {
   "cell_type": "code",
   "execution_count": 68,
   "metadata": {
    "collapsed": true
   },
   "outputs": [],
   "source": [
    "u = np.zeros((N['t']+1, N['x']+1, N['y']+1, N['z']+1))\n",
    "y1 = np.zeros((N['x']+1, N['y']+1, N['z']+1))\n",
    "y2 = np.zeros((N['x']+1, N['y']+1, N['z']+1))\n",
    "y3 = np.zeros((N['x']+1, N['y']+1, N['z']+1))"
   ]
  },
  {
   "cell_type": "code",
   "execution_count": 69,
   "metadata": {
    "collapsed": true
   },
   "outputs": [],
   "source": [
    "A_x = np.zeros(N['x'])\n",
    "B_x = np.zeros(N['x'])\n",
    "C_x = np.zeros(N['x'])\n",
    "F_x = np.zeros(N['x'])"
   ]
  },
  {
   "cell_type": "code",
   "execution_count": 112,
   "metadata": {
    "collapsed": true
   },
   "outputs": [],
   "source": [
    "## начальные условия\n",
    "for i in range(N['x']+1):\n",
    "    for j in range(N['y']+1):\n",
    "        for k in range(N['z']+1):\n",
    "            u[0,i,j,k] = np.sin(np.pi*x(i)/2) * np.cos(2*np.pi*y(j)) * np.sin(np.pi*z(k))"
   ]
  },
  {
   "cell_type": "code",
   "execution_count": null,
   "metadata": {
    "collapsed": true
   },
   "outputs": [],
   "source": []
  },
  {
   "cell_type": "code",
   "execution_count": 113,
   "metadata": {},
   "outputs": [],
   "source": [
    "for m in range(N['t']):\n",
    "    \n",
    "    # y(1) - x\n",
    "    for j in range(0,N['y']):\n",
    "        for k in range(0,N['z']):\n",
    "            for i in range(N['x']):\n",
    "                \n",
    "                A_x[i] = 1 / h['x']**2\n",
    "                C_x[i] = 2 / h['x']**2 + 2 / h['t']**2\n",
    "                B_x[i] = 1 / h['x']**2\n",
    "                \n",
    "                F_x[i] = 2 * u[m,i,j,k] / h['t'] + L2(u[m],i,j,k) + L3(u[m],i,j,k)\n",
    "            \n",
    "            y1[:,j,k] = TMA(A_x, B_x, C_x, F_x, k2=1)\n",
    "            \n",
    "            \n",
    "    \n",
    "    # y(2) - y\n",
    "    for i in range(1,N['x']+1):\n",
    "        for k in range(1,N['z']+1):\n",
    "            for j in range(1,N['y']):\n",
    "                \n",
    "                A_x[j] = 1 / h['y']**2\n",
    "                C_x[j] = 2 / h['y']**2 + 2 / h['t']**2\n",
    "                B_x[j] = 1 / h['y']**2\n",
    "                \n",
    "                F_x[j] = 2 * y1[i,j,k] / h['t'] - L2(u[m],i,j,k)\n",
    "            \n",
    "            y2[i,:,k] = TMA(A_x, B_x, C_x, F_x, k1=1, k2=1)\n",
    "    \n",
    "    # y(3)\n",
    "    for i in range(0,N['x']+1):\n",
    "        for j in range(0,N['y']+1):\n",
    "            for k in range(1,N['z']):\n",
    "                \n",
    "                A_x[k] = 1 / h['y']**2\n",
    "                C_x[k] = 2 / h['y']**2 + 2 / h['t']**2\n",
    "                B_x[k] = 1 / h['y']**2\n",
    "                \n",
    "                F_x[k] = 2 * y2[i,j,k] / h['t'] - L3(u[m],i,j,k)\n",
    "            \n",
    "            y2[i,j,:] = TMA(A_x, B_x, C_x, F_x)\n",
    "    \n",
    "    # y^\n",
    "    for i in range(1,N['x']):\n",
    "        for j in range(1,N['y']):\n",
    "            for k in range(1,N['z']):\n",
    "                u[m+1,i,j,k] = u[m,i,j,k] + h['t'] * (L1(y1,i,j,k) + L2(y2,i,j,k) + L3(y3,i,j,k)) + h['t']*f(m+0.5, i, j, k)\n",
    "    \n",
    "    # и граничные условия\n",
    "    u[m+1, N['x'], :, :] = u[m+1, N['x']-1, :, :]  # правое по x \n",
    "\n",
    "    u[m+1, :, 0, :] = u[m+1, :, 1, :] # правое по y\n",
    "    u[m+1, :, 0, :] = u[m+1, :, 1, :] # левое по y\n",
    "    "
   ]
  },
  {
   "cell_type": "code",
   "execution_count": 114,
   "metadata": {
    "collapsed": true
   },
   "outputs": [],
   "source": [
    "def L(u,i,j,k):\n",
    "    L1 = (u[i-1,j,k] - 2*u[i,j,k] + u[i+1,j,k]) / h['x']**2\n",
    "    L2 = (u[i,j-1,k] - 2*u[i,j,k] + u[i,j+1,k]) / h['y']**2\n",
    "    L3 = (u[i,j,k-1] - 2*u[i,j,k] + u[i,j,k+1]) / h['z']**2\n",
    "    return L1 + L2 + L3\n",
    "\n",
    "def L1(u,i,j,k):\n",
    "    return (u[i-1,j,k] - 2*u[i,j,k] + u[i+1,j,k]) / h['x']**2\n",
    "\n",
    "def L2(u,i,j,k):\n",
    "    return (u[i,j-1,k] - 2*u[i,j,k] + u[i,j+1,k]) / h['y']**2\n",
    "\n",
    "def L3(u,i,j,k):\n",
    "    return (u[i,j,k-1] - 2*u[i,j,k] + u[i,j,k+1]) / h['z']**2\n",
    "\n",
    "def f(m,i,j,k):\n",
    "        return np.exp(t(m)) * np.sin(3*np.pi*x(i)/2) * np.sin(np.pi*z(k))\n"
   ]
  },
  {
   "cell_type": "code",
   "execution_count": 115,
   "metadata": {
    "collapsed": true
   },
   "outputs": [],
   "source": []
  },
  {
   "cell_type": "code",
   "execution_count": 116,
   "metadata": {},
   "outputs": [
    {
     "data": {
      "text/plain": [
       "(21, 21, 21)"
      ]
     },
     "execution_count": 116,
     "metadata": {},
     "output_type": "execute_result"
    }
   ],
   "source": [
    "y3.shape\n"
   ]
  },
  {
   "cell_type": "code",
   "execution_count": null,
   "metadata": {
    "collapsed": true
   },
   "outputs": [],
   "source": []
  },
  {
   "cell_type": "code",
   "execution_count": null,
   "metadata": {
    "collapsed": true
   },
   "outputs": [],
   "source": []
  }
 ],
 "metadata": {
  "kernelspec": {
   "display_name": "Python [conda env:anaconda3]",
   "language": "python",
   "name": "conda-env-anaconda3-py"
  },
  "language_info": {
   "codemirror_mode": {
    "name": "ipython",
    "version": 3
   },
   "file_extension": ".py",
   "mimetype": "text/x-python",
   "name": "python",
   "nbconvert_exporter": "python",
   "pygments_lexer": "ipython3",
   "version": "3.6.3"
  }
 },
 "nbformat": 4,
 "nbformat_minor": 2
}
